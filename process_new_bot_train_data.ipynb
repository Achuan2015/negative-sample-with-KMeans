{
 "cells": [
  {
   "cell_type": "code",
   "execution_count": 6,
   "metadata": {},
   "outputs": [],
   "source": [
    "import pandas as pd\n",
    "\n",
    "# ssc 的语料，为了避免稀释，选择其中的一半\n",
    "path1 = 'data/ssc_faq_corpus_with_index_20220310.csv'\n",
    "# new bot的语料，整理好的，column_names = ['category','intent_id', 'intent_name', 'corpus_id', 'text']\n",
    "path2 = 'output_data/data_label_corpus_20220620.csv'\n",
    "# 闲聊语料\n",
    "path3 = 'data/small_chat_corpus_v2.csv'"
   ]
  },
  {
   "cell_type": "code",
   "execution_count": 7,
   "metadata": {},
   "outputs": [],
   "source": [
    "# 数据格式以 bot_corpus_20220516.csv 的格式作为标准\n",
    "## 先合并 path 1 和 path3 的数据\n",
    "df1 = pd.read_csv(path1, sep='\\t')\n",
    "df2 = pd.read_csv(path2, sep='\\t')"
   ]
  },
  {
   "cell_type": "code",
   "execution_count": 8,
   "metadata": {},
   "outputs": [
    {
     "name": "stdout",
     "output_type": "stream",
     "text": [
      "['skill', 'category1', 'question', 'alias', 'category_id', 'skill_id', 'question_id', 'index']\n",
      "['公司介绍', '团队介绍', '薪酬', '绩效', '社保公积金', '居住证', '政策解读', '行为准则', '奖励制度', '惩罚制度', '福利', '补贴', '工会', '员工管理', '会议日程', 'IT运维', '报销', '入职', '转正', '离职', '调岗', '调休', '上下班', '加班', '早退', '迟到', '旷工', '出差', '员工培训', '假期管理', '事假', '病假', '年假', '产假', '陪产假', '婚假', '其他假期', '校招', '通讯录', '公司简介', '企业文化', '我要入职', '我要转正', '我要调岗', '离职流程', '我的考勤', '我的加班', '我要休假', '安全管理', 'EHS管理', '纪律管理', '基本工资', '绩效奖金', '社保', '公司福利', '我的培训', '我的发展', '薪酬政策', '差旅政策', '沟通渠道', '持续改进', '行政服务', 'IT服务', '个人所得税', '公积金', '党组织关系', '证明开具', '上海居住证积分及落户', '财务报销', '奖励', '采购政策']\n",
      "71\n",
      "['公司介绍', '团队介绍', '薪酬', '绩效', '社保公积金', '居住证', '政策解读', '行为准则', '奖励制度', '惩罚制度', '福利', '补贴', '工会', '员工管理', '会议日程', 'IT运维', '报销']\n",
      "17\n",
      "['公司介绍', '团队介绍', '薪酬', '绩效', '社保公积金', '居住证', '政策解读', '行为准则', '奖励制度', '惩罚制度']\n",
      "10\n"
     ]
    }
   ],
   "source": [
    "print(df1.columns.tolist())\n",
    "\n",
    "print(df1['category1'].drop_duplicates().tolist())\n",
    "print(df1['category1'].drop_duplicates().tolist().__len__())\n",
    "\n",
    "df11 = df1.iloc[:40000]\n",
    "print(df11['category1'].drop_duplicates().tolist())\n",
    "print(df11['category1'].drop_duplicates().tolist().__len__())\n",
    "\n",
    "\n",
    "df111 = df1.iloc[:20000]\n",
    "print(df111['category1'].drop_duplicates().tolist())\n",
    "print(df111['category1'].drop_duplicates().tolist().__len__())"
   ]
  },
  {
   "cell_type": "code",
   "execution_count": 9,
   "metadata": {},
   "outputs": [
    {
     "name": "stdout",
     "output_type": "stream",
     "text": [
      "['skill', 'category1', 'question', 'alias', 'category_id', 'skill_id', 'question_id', 'index']\n",
      "['我是谁', '我想玩游戏', '我想去旅游', '我想和你聊天', '我想减肥', '我想跑步', '我要休息了', '我要打你了', '我要和你绝交', '我要考试了', '我要怎么变温柔', '我要当爸爸了', '我要当妈妈了', '我来考考你', '我的愿望什么时候成真', '我会幸福吗', '我的发音标准吗', '我能爱她吗', '我未来怎么样', '我没钱', '我来了', '我走了', '我们分手吧', '郁闷', '生气', '我喜欢你', '我和朋友吵架了', '我和朋友打架了', '我有好多朋友', '我有很多钱', '我渴了', '我饿了', '我生病了', '我会好好学习的', '我输了', '我不想上班', '我后悔了', '我不是故意的', '我好害怕', '我好累', '我好笨', '我恨你', '我恨他', '我很幸福', '我不幸福', '你好', '在吗', '你在干嘛', '早上好', '上午好', '中午好', '下午好', '晚上好', '谢谢', '对不起', '没关系', '给我道歉', '辛苦了', '再见', '你叫什么名字', '你多大了', '你是什么血型', '你是什么星座', '你是属什么的', '你是男的还是女的', '你是谁研制的', '你是机器人吗', '你是什么学校毕业的', '你的生日是哪天', '你的身高是多少', '你的体重是多少', '你的身材怎么样', '你的爸爸是谁', '你的妈妈是谁', '你的爷爷是谁', '你的奶奶是谁', '你有兄弟姐妹吗', '你有朋友吗', '你有女朋友吗', '你有男朋友吗', '你有孩子吗', '你有什么爱好', '你有什么梦想', '你会干什么', '你会唱歌吗', '你会跳舞吗', '你会说土味情话吗', '你不喜欢什么', '你喜欢吃什么', '你喜欢什么颜色', '你喜欢什么运动', '你喜欢什么游戏', '你喜欢什么电影', '你喜欢哪个男明星', '你喜欢哪个女明星', '你喜欢哪个球星', 'NBA你喜欢谁', '你喜欢哪个男歌手', '你喜欢哪个女歌手', '你喜欢哪个男演员', '你喜欢哪个女演员', '你喜欢什么水果', '你喜欢喝什么', '你喜欢什么蔬菜', '你喜欢什么零食', '你喜欢什么菜系', '你喜欢什么音乐', '你喜欢什么动画', '你喜欢什么动物', '你喜欢什么宠物', '你喜欢什么书', '你喜欢什么电视节目', '你喜欢哪个篮球队', '你喜欢哪个足球队', '你喜欢哪个组合', '你喜欢哪个季节', '你喜欢的节日', '你喜欢什么花', '你是哪个国家的', '你来自哪里', '你就职于哪家公司', '你今天心情怎么样', '你吃饭了吗', '你结婚了吗', '你聪明吗', '你漂亮吗', '你好聪明啊', '你好漂亮', '你真可爱', '你好笨啊', '你好丑啊', '答非所问', '我要投诉你', '做我男朋友好吗', '做我女朋友好吗', '我们谈恋爱吧', '我们结婚吧', '伤心', '开心', '无聊', '我不明白', '呵呵', '好的', '谁最帅', '谁最美', '我帅吗', '我美吗', '我爱你', '来句上海话', '帮我查一下', '咨询个问题', '麻烦你', '为什么', '知道了', '没问题了']\n",
      "['intent_id', 'intent_name', 'text', 'one_hot_label']\n",
      "['category', 'intent_name', 'text', 'intent_id']\n",
      "['category', 'intent_name', 'text', 'intent_id', 'corpus_id']\n"
     ]
    }
   ],
   "source": [
    "df1 = df1.iloc[:20000]\n",
    "\n",
    "chat_corpus = []\n",
    "with open(path3, 'r') as f:\n",
    "    for line in f:\n",
    "        line = line.strip()\n",
    "        if line:\n",
    "            chat_corpus.append(line)\n",
    "\n",
    "print(df1.columns.tolist())\n",
    "print(chat_corpus)\n",
    "\n",
    "df1 = df1[['category1', 'question', 'alias', 'question_id']]\n",
    "df1 = df1.rename(columns={'category1': 'category', 'question_id': 'intent_id', 'question': 'intent_name', 'alias': 'text'})\n",
    "chat_corpus_dict = {'text': chat_corpus, 'category': ['small_chat' for _ in range(len(chat_corpus))], \n",
    "                    'intent_name':['small_chat' for _ in range(len(chat_corpus))],\n",
    "                    'intent_id': [90000 for _ in range(len(chat_corpus))]}\n",
    "                    \n",
    "df3 = pd.DataFrame(chat_corpus_dict)\n",
    "df12 = pd.concat([df1, df3], ignore_index=True)\n",
    "df12['corpus_id'] = df12.index + 1\n",
    "\n",
    "print(df2.columns.tolist())\n",
    "print(df1.columns.tolist())\n",
    "print(df12.columns.tolist())"
   ]
  },
  {
   "cell_type": "code",
   "execution_count": 10,
   "metadata": {},
   "outputs": [],
   "source": [
    "dfs = pd.concat([df12, df2], ignore_index=True)\n",
    "\n",
    "dfs.to_csv('data/bot_corpus_20220620_v1.csv', sep='\\t', index=False)"
   ]
  },
  {
   "cell_type": "code",
   "execution_count": 11,
   "metadata": {},
   "outputs": [
    {
     "data": {
      "text/plain": [
       "(46142, 6)"
      ]
     },
     "execution_count": 11,
     "metadata": {},
     "output_type": "execute_result"
    }
   ],
   "source": [
    "dfs.shape"
   ]
  }
 ],
 "metadata": {
  "kernelspec": {
   "display_name": "Python 3.8.5 ('base')",
   "language": "python",
   "name": "python3"
  },
  "language_info": {
   "codemirror_mode": {
    "name": "ipython",
    "version": 3
   },
   "file_extension": ".py",
   "mimetype": "text/x-python",
   "name": "python",
   "nbconvert_exporter": "python",
   "pygments_lexer": "ipython3",
   "version": "3.8.5"
  },
  "orig_nbformat": 4,
  "vscode": {
   "interpreter": {
    "hash": "dafaadbda7e2b4673c53a13d22366aab1c2a35a28f6b7c4e8046d1a490edd4db"
   }
  }
 },
 "nbformat": 4,
 "nbformat_minor": 2
}
