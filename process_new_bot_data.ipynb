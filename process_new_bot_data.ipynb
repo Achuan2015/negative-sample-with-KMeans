{
 "cells": [
  {
   "cell_type": "markdown",
   "metadata": {},
   "source": [
    "### 处理新增的bot数据"
   ]
  },
  {
   "cell_type": "code",
   "execution_count": 13,
   "metadata": {},
   "outputs": [
    {
     "data": {
      "text/html": [
       "<div>\n",
       "<style scoped>\n",
       "    .dataframe tbody tr th:only-of-type {\n",
       "        vertical-align: middle;\n",
       "    }\n",
       "\n",
       "    .dataframe tbody tr th {\n",
       "        vertical-align: top;\n",
       "    }\n",
       "\n",
       "    .dataframe thead th {\n",
       "        text-align: right;\n",
       "    }\n",
       "</style>\n",
       "<table border=\"1\" class=\"dataframe\">\n",
       "  <thead>\n",
       "    <tr style=\"text-align: right;\">\n",
       "      <th></th>\n",
       "      <th>zuber_id</th>\n",
       "      <th>intent_id</th>\n",
       "      <th>intent_name</th>\n",
       "      <th>corpus_id</th>\n",
       "      <th>text</th>\n",
       "      <th>synonyms</th>\n",
       "    </tr>\n",
       "  </thead>\n",
       "  <tbody>\n",
       "    <tr>\n",
       "      <th>0</th>\n",
       "      <td>1000000001</td>\n",
       "      <td>815860777558978560</td>\n",
       "      <td>6IB/推进-FAB-FA-PSO</td>\n",
       "      <td>840873604963799040</td>\n",
       "      <td>作为全球的唯一的全人源的白介素17抑制剂，可以精准靶向抑制所有来源，白介素17控制全身的一个...</td>\n",
       "      <td>NaN</td>\n",
       "    </tr>\n",
       "    <tr>\n",
       "      <th>1</th>\n",
       "      <td>1000000001</td>\n",
       "      <td>815860777558978560</td>\n",
       "      <td>6IB/推进-FAB-FA-PSO</td>\n",
       "      <td>840873604963799041</td>\n",
       "      <td>我们可以看到尽早使用客栈顶。在未经系统治疗中，Pasi评分pac90和pass100分别达到...</td>\n",
       "      <td>NaN</td>\n",
       "    </tr>\n",
       "    <tr>\n",
       "      <th>2</th>\n",
       "      <td>1000000001</td>\n",
       "      <td>815860777558978560</td>\n",
       "      <td>6IB/推进-FAB-FA-PSO</td>\n",
       "      <td>840873604963799042</td>\n",
       "      <td>那么未经系统治疗的这类患者的话，他总体的拍C75C90拍100的应答率是最好的。那么由此的话...</td>\n",
       "      <td>NaN</td>\n",
       "    </tr>\n",
       "    <tr>\n",
       "      <th>3</th>\n",
       "      <td>1000000001</td>\n",
       "      <td>815860777558978560</td>\n",
       "      <td>6IB/推进-FAB-FA-PSO</td>\n",
       "      <td>840873604963799043</td>\n",
       "      <td>就是尽早的话，启动可餐厅的话，你可以更快的实现更高的，这样的批准的清除率</td>\n",
       "      <td>NaN</td>\n",
       "    </tr>\n",
       "    <tr>\n",
       "      <th>4</th>\n",
       "      <td>1000000001</td>\n",
       "      <td>815860777558978560</td>\n",
       "      <td>6IB/推进-FAB-FA-PSO</td>\n",
       "      <td>840873604963799044</td>\n",
       "      <td>未经传统治疗使用事故只有单抗的患者，他PS75的应答率能达到92.8%，PS90的应答率的8...</td>\n",
       "      <td>NaN</td>\n",
       "    </tr>\n",
       "  </tbody>\n",
       "</table>\n",
       "</div>"
      ],
      "text/plain": [
       "     zuber_id           intent_id        intent_name           corpus_id  \\\n",
       "0  1000000001  815860777558978560  6IB/推进-FAB-FA-PSO  840873604963799040   \n",
       "1  1000000001  815860777558978560  6IB/推进-FAB-FA-PSO  840873604963799041   \n",
       "2  1000000001  815860777558978560  6IB/推进-FAB-FA-PSO  840873604963799042   \n",
       "3  1000000001  815860777558978560  6IB/推进-FAB-FA-PSO  840873604963799043   \n",
       "4  1000000001  815860777558978560  6IB/推进-FAB-FA-PSO  840873604963799044   \n",
       "\n",
       "                                                text synonyms  \n",
       "0  作为全球的唯一的全人源的白介素17抑制剂，可以精准靶向抑制所有来源，白介素17控制全身的一个...      NaN  \n",
       "1  我们可以看到尽早使用客栈顶。在未经系统治疗中，Pasi评分pac90和pass100分别达到...      NaN  \n",
       "2  那么未经系统治疗的这类患者的话，他总体的拍C75C90拍100的应答率是最好的。那么由此的话...      NaN  \n",
       "3               就是尽早的话，启动可餐厅的话，你可以更快的实现更高的，这样的批准的清除率      NaN  \n",
       "4  未经传统治疗使用事故只有单抗的患者，他PS75的应答率能达到92.8%，PS90的应答率的8...      NaN  "
      ]
     },
     "execution_count": 13,
     "metadata": {},
     "output_type": "execute_result"
    }
   ],
   "source": [
    "import pandas as pd\n",
    "\n",
    "path = 'data/Result_27.csv'\n",
    "\n",
    "dfs = pd.read_csv(path, sep=',', names=['zuber_id', 'intent_id', 'intent_name', 'corpus_id', 'text', 'synonyms'])\n",
    "dfs.head()"
   ]
  },
  {
   "cell_type": "code",
   "execution_count": 14,
   "metadata": {},
   "outputs": [],
   "source": [
    "theme = [\"中行\", \"费卡\", \"6IB\", \"催收\"]\n",
    "\n",
    "def get_category(intent_name):\n",
    "    for t in theme:\n",
    "        if t in intent_name:\n",
    "            return t\n",
    "\n",
    "dfs = dfs.dropna(subset=['text'])\n",
    "dfs['category'] = dfs['intent_name'].apply(lambda x: get_category(x))\n",
    "dfs = dfs.dropna(subset=['category'])"
   ]
  },
  {
   "cell_type": "markdown",
   "metadata": {},
   "source": [
    "### 保存处理好的数据"
   ]
  },
  {
   "cell_type": "code",
   "execution_count": 15,
   "metadata": {},
   "outputs": [],
   "source": [
    "dfs = dfs[['category','intent_id', 'intent_name', 'corpus_id', 'text']]\n",
    "\n",
    "dfs.to_csv('data/bot_corpus_20220516.csv', sep='\\t', index=False)"
   ]
  }
 ],
 "metadata": {
  "interpreter": {
   "hash": "dafaadbda7e2b4673c53a13d22366aab1c2a35a28f6b7c4e8046d1a490edd4db"
  },
  "kernelspec": {
   "display_name": "Python 3.8.5 ('base')",
   "language": "python",
   "name": "python3"
  },
  "language_info": {
   "codemirror_mode": {
    "name": "ipython",
    "version": 3
   },
   "file_extension": ".py",
   "mimetype": "text/x-python",
   "name": "python",
   "nbconvert_exporter": "python",
   "pygments_lexer": "ipython3",
   "version": "3.8.5"
  },
  "orig_nbformat": 4
 },
 "nbformat": 4,
 "nbformat_minor": 2
}
