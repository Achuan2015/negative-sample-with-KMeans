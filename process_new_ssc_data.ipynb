{
 "cells": [
  {
   "cell_type": "markdown",
   "metadata": {},
   "source": [
    "## 处理（合并）新的公司数据"
   ]
  },
  {
   "cell_type": "code",
   "execution_count": 2,
   "metadata": {},
   "outputs": [],
   "source": [
    "import pandas as pd\n",
    "\n",
    "heilishi_path = '/data/data-lakes/ssc/helishi_new.xlsx'"
   ]
  },
  {
   "cell_type": "markdown",
   "metadata": {},
   "source": [
    "### 分别载入数据"
   ]
  },
  {
   "cell_type": "code",
   "execution_count": 9,
   "metadata": {},
   "outputs": [
    {
     "data": {
      "text/html": [
       "<div>\n",
       "<style scoped>\n",
       "    .dataframe tbody tr th:only-of-type {\n",
       "        vertical-align: middle;\n",
       "    }\n",
       "\n",
       "    .dataframe tbody tr th {\n",
       "        vertical-align: top;\n",
       "    }\n",
       "\n",
       "    .dataframe thead th {\n",
       "        text-align: right;\n",
       "    }\n",
       "</style>\n",
       "<table border=\"1\" class=\"dataframe\">\n",
       "  <thead>\n",
       "    <tr style=\"text-align: right;\">\n",
       "      <th></th>\n",
       "      <th>skill</th>\n",
       "      <th>category1</th>\n",
       "      <th>question</th>\n",
       "      <th>answer</th>\n",
       "      <th>alias</th>\n",
       "    </tr>\n",
       "  </thead>\n",
       "  <tbody>\n",
       "    <tr>\n",
       "      <th>0</th>\n",
       "      <td>公司概况</td>\n",
       "      <td>公司简介</td>\n",
       "      <td>贺利氏是一家什么样的集团？</td>\n",
       "      <td>您好，总部位于德国哈瑙市的贺利氏是一家全球领先的科技集团。公司在1660年从一间小药房起家，...</td>\n",
       "      <td>贺利氏集团是一家怎样的公司？</td>\n",
       "    </tr>\n",
       "    <tr>\n",
       "      <th>1</th>\n",
       "      <td>NaN</td>\n",
       "      <td>NaN</td>\n",
       "      <td>NaN</td>\n",
       "      <td>NaN</td>\n",
       "      <td>贺利氏集团是干嘛的？</td>\n",
       "    </tr>\n",
       "    <tr>\n",
       "      <th>2</th>\n",
       "      <td>NaN</td>\n",
       "      <td>NaN</td>\n",
       "      <td>NaN</td>\n",
       "      <td>NaN</td>\n",
       "      <td>贺利氏集团是一家做什么的公司？</td>\n",
       "    </tr>\n",
       "    <tr>\n",
       "      <th>3</th>\n",
       "      <td>NaN</td>\n",
       "      <td>NaN</td>\n",
       "      <td>NaN</td>\n",
       "      <td>NaN</td>\n",
       "      <td>贺利氏集团是做什么的？</td>\n",
       "    </tr>\n",
       "    <tr>\n",
       "      <th>4</th>\n",
       "      <td>NaN</td>\n",
       "      <td>NaN</td>\n",
       "      <td>NaN</td>\n",
       "      <td>NaN</td>\n",
       "      <td>贺利氏集团是干什么的？</td>\n",
       "    </tr>\n",
       "  </tbody>\n",
       "</table>\n",
       "</div>"
      ],
      "text/plain": [
       "  skill category1       question  \\\n",
       "0  公司概况      公司简介  贺利氏是一家什么样的集团？   \n",
       "1   NaN       NaN            NaN   \n",
       "2   NaN       NaN            NaN   \n",
       "3   NaN       NaN            NaN   \n",
       "4   NaN       NaN            NaN   \n",
       "\n",
       "                                              answer            alias  \n",
       "0  您好，总部位于德国哈瑙市的贺利氏是一家全球领先的科技集团。公司在1660年从一间小药房起家，...   贺利氏集团是一家怎样的公司？  \n",
       "1                                                NaN       贺利氏集团是干嘛的？  \n",
       "2                                                NaN  贺利氏集团是一家做什么的公司？  \n",
       "3                                                NaN      贺利氏集团是做什么的？  \n",
       "4                                                NaN      贺利氏集团是干什么的？  "
      ]
     },
     "execution_count": 9,
     "metadata": {},
     "output_type": "execute_result"
    }
   ],
   "source": [
    "helishi_dfs = pd.read_excel(heilishi_path)\n",
    "helishi_dfs = helishi_dfs[['技能', '一级分类', '标准问(必填)', '答案(最多10条)','扩展问(最多1000条)']]\n",
    "helishi_rename = helishi_dfs.rename(columns={'技能': 'skill', '一级分类': 'category1',\n",
    "    '标准问(必填)': 'question', '扩展问(最多1000条)': 'alias', '答案(最多10条)':'answer'})\n",
    "\n",
    "helishi_rename.head()"
   ]
  },
  {
   "cell_type": "markdown",
   "metadata": {},
   "source": [
    "### 填充数据缺失的部分"
   ]
  },
  {
   "cell_type": "code",
   "execution_count": 12,
   "metadata": {},
   "outputs": [
    {
     "data": {
      "text/html": [
       "<div>\n",
       "<style scoped>\n",
       "    .dataframe tbody tr th:only-of-type {\n",
       "        vertical-align: middle;\n",
       "    }\n",
       "\n",
       "    .dataframe tbody tr th {\n",
       "        vertical-align: top;\n",
       "    }\n",
       "\n",
       "    .dataframe thead th {\n",
       "        text-align: right;\n",
       "    }\n",
       "</style>\n",
       "<table border=\"1\" class=\"dataframe\">\n",
       "  <thead>\n",
       "    <tr style=\"text-align: right;\">\n",
       "      <th></th>\n",
       "      <th>skill</th>\n",
       "      <th>category1</th>\n",
       "      <th>question</th>\n",
       "      <th>alias</th>\n",
       "    </tr>\n",
       "  </thead>\n",
       "  <tbody>\n",
       "    <tr>\n",
       "      <th>0</th>\n",
       "      <td>公司概况</td>\n",
       "      <td>公司简介</td>\n",
       "      <td>贺利氏是一家什么样的集团？</td>\n",
       "      <td>贺利氏集团是一家怎样的公司？</td>\n",
       "    </tr>\n",
       "    <tr>\n",
       "      <th>1</th>\n",
       "      <td>公司概况</td>\n",
       "      <td>公司简介</td>\n",
       "      <td>贺利氏是一家什么样的集团？</td>\n",
       "      <td>贺利氏集团是干嘛的？</td>\n",
       "    </tr>\n",
       "    <tr>\n",
       "      <th>2</th>\n",
       "      <td>公司概况</td>\n",
       "      <td>公司简介</td>\n",
       "      <td>贺利氏是一家什么样的集团？</td>\n",
       "      <td>贺利氏集团是一家做什么的公司？</td>\n",
       "    </tr>\n",
       "    <tr>\n",
       "      <th>3</th>\n",
       "      <td>公司概况</td>\n",
       "      <td>公司简介</td>\n",
       "      <td>贺利氏是一家什么样的集团？</td>\n",
       "      <td>贺利氏集团是做什么的？</td>\n",
       "    </tr>\n",
       "    <tr>\n",
       "      <th>4</th>\n",
       "      <td>公司概况</td>\n",
       "      <td>公司简介</td>\n",
       "      <td>贺利氏是一家什么样的集团？</td>\n",
       "      <td>贺利氏集团是干什么的？</td>\n",
       "    </tr>\n",
       "  </tbody>\n",
       "</table>\n",
       "</div>"
      ],
      "text/plain": [
       "  skill category1       question            alias\n",
       "0  公司概况      公司简介  贺利氏是一家什么样的集团？   贺利氏集团是一家怎样的公司？\n",
       "1  公司概况      公司简介  贺利氏是一家什么样的集团？       贺利氏集团是干嘛的？\n",
       "2  公司概况      公司简介  贺利氏是一家什么样的集团？  贺利氏集团是一家做什么的公司？\n",
       "3  公司概况      公司简介  贺利氏是一家什么样的集团？      贺利氏集团是做什么的？\n",
       "4  公司概况      公司简介  贺利氏是一家什么样的集团？      贺利氏集团是干什么的？"
      ]
     },
     "execution_count": 12,
     "metadata": {},
     "output_type": "execute_result"
    }
   ],
   "source": [
    "# 设置提醒\n",
    "# pd.options.mode.chained_assignment = None\n",
    "helishi_ffill = helishi_rename[['skill', 'category1', 'question']].fillna(method='ffill', inplace=False)\n",
    "helishi_ffill.loc[:, 'alias'] = helishi_rename.loc[:, 'alias']\n",
    "helishi_ffill.head()"
   ]
  },
  {
   "cell_type": "markdown",
   "metadata": {},
   "source": [
    "### 验证先前的数据格式"
   ]
  },
  {
   "cell_type": "code",
   "execution_count": 14,
   "metadata": {},
   "outputs": [
    {
     "data": {
      "text/plain": [
       "['skill', 'category1', 'question', 'alias']"
      ]
     },
     "execution_count": 14,
     "metadata": {},
     "output_type": "execute_result"
    }
   ],
   "source": [
    "previous_path = '/data/projects/negative-sample-with-KMeans/data/faq_corpus_with_index.xlsx'\n",
    "\n",
    "dfs_previous = pd.read_excel(previous_path)\n",
    "common_columns = ['skill', 'category1', 'question', 'alias']\n",
    "common_columns"
   ]
  },
  {
   "cell_type": "markdown",
   "metadata": {},
   "source": [
    "### 合并数据并去重"
   ]
  },
  {
   "cell_type": "code",
   "execution_count": 26,
   "metadata": {},
   "outputs": [
    {
     "data": {
      "text/html": [
       "<div>\n",
       "<style scoped>\n",
       "    .dataframe tbody tr th:only-of-type {\n",
       "        vertical-align: middle;\n",
       "    }\n",
       "\n",
       "    .dataframe tbody tr th {\n",
       "        vertical-align: top;\n",
       "    }\n",
       "\n",
       "    .dataframe thead th {\n",
       "        text-align: right;\n",
       "    }\n",
       "</style>\n",
       "<table border=\"1\" class=\"dataframe\">\n",
       "  <thead>\n",
       "    <tr style=\"text-align: right;\">\n",
       "      <th></th>\n",
       "      <th>skill</th>\n",
       "      <th>category1</th>\n",
       "      <th>question</th>\n",
       "      <th>alias</th>\n",
       "    </tr>\n",
       "  </thead>\n",
       "  <tbody>\n",
       "    <tr>\n",
       "      <th>0</th>\n",
       "      <td>公司概述</td>\n",
       "      <td>公司介绍</td>\n",
       "      <td>公司的投资方是哪家</td>\n",
       "      <td>公司投资方是谁</td>\n",
       "    </tr>\n",
       "    <tr>\n",
       "      <th>1</th>\n",
       "      <td>公司概述</td>\n",
       "      <td>公司介绍</td>\n",
       "      <td>公司的投资方是哪家</td>\n",
       "      <td>谁是公司投资方</td>\n",
       "    </tr>\n",
       "    <tr>\n",
       "      <th>2</th>\n",
       "      <td>公司概述</td>\n",
       "      <td>公司介绍</td>\n",
       "      <td>公司的投资方是哪家</td>\n",
       "      <td>谁给公司融资的</td>\n",
       "    </tr>\n",
       "    <tr>\n",
       "      <th>3</th>\n",
       "      <td>公司概述</td>\n",
       "      <td>公司介绍</td>\n",
       "      <td>公司的投资方是哪家</td>\n",
       "      <td>投资方是谁</td>\n",
       "    </tr>\n",
       "    <tr>\n",
       "      <th>4</th>\n",
       "      <td>公司概述</td>\n",
       "      <td>公司介绍</td>\n",
       "      <td>公司的投资方是哪家</td>\n",
       "      <td>投资方有谁</td>\n",
       "    </tr>\n",
       "  </tbody>\n",
       "</table>\n",
       "</div>"
      ],
      "text/plain": [
       "  skill category1   question    alias\n",
       "0  公司概述      公司介绍  公司的投资方是哪家  公司投资方是谁\n",
       "1  公司概述      公司介绍  公司的投资方是哪家  谁是公司投资方\n",
       "2  公司概述      公司介绍  公司的投资方是哪家  谁给公司融资的\n",
       "3  公司概述      公司介绍  公司的投资方是哪家    投资方是谁\n",
       "4  公司概述      公司介绍  公司的投资方是哪家    投资方有谁"
      ]
     },
     "execution_count": 26,
     "metadata": {},
     "output_type": "execute_result"
    }
   ],
   "source": [
    "dfs_previous_common = dfs_previous[common_columns]\n",
    "helishi_ffill_common = helishi_ffill[common_columns]\n",
    "\n",
    "dfs_merge = pd.concat([dfs_previous_common, helishi_ffill_common], ignore_index=True)\n",
    "\n",
    "dfs_filter = dfs_merge.drop_duplicates(subset='alias', keep='first',ignore_index=True)\n",
    "dfs_filter.head()"
   ]
  },
  {
   "cell_type": "markdown",
   "metadata": {},
   "source": [
    "### 构造ID映射关系"
   ]
  },
  {
   "cell_type": "code",
   "execution_count": 27,
   "metadata": {},
   "outputs": [
    {
     "name": "stderr",
     "output_type": "stream",
     "text": [
      "/data/opts/anaconda3/lib/python3.8/site-packages/pandas/core/indexing.py:1596: SettingWithCopyWarning: \n",
      "A value is trying to be set on a copy of a slice from a DataFrame.\n",
      "Try using .loc[row_indexer,col_indexer] = value instead\n",
      "\n",
      "See the caveats in the documentation: https://pandas.pydata.org/pandas-docs/stable/user_guide/indexing.html#returning-a-view-versus-a-copy\n",
      "  self.obj[key] = _infer_fill_value(value)\n",
      "/data/opts/anaconda3/lib/python3.8/site-packages/pandas/core/indexing.py:1745: SettingWithCopyWarning: \n",
      "A value is trying to be set on a copy of a slice from a DataFrame.\n",
      "Try using .loc[row_indexer,col_indexer] = value instead\n",
      "\n",
      "See the caveats in the documentation: https://pandas.pydata.org/pandas-docs/stable/user_guide/indexing.html#returning-a-view-versus-a-copy\n",
      "  isetter(ilocs[0], value)\n"
     ]
    },
    {
     "data": {
      "text/html": [
       "<div>\n",
       "<style scoped>\n",
       "    .dataframe tbody tr th:only-of-type {\n",
       "        vertical-align: middle;\n",
       "    }\n",
       "\n",
       "    .dataframe tbody tr th {\n",
       "        vertical-align: top;\n",
       "    }\n",
       "\n",
       "    .dataframe thead th {\n",
       "        text-align: right;\n",
       "    }\n",
       "</style>\n",
       "<table border=\"1\" class=\"dataframe\">\n",
       "  <thead>\n",
       "    <tr style=\"text-align: right;\">\n",
       "      <th></th>\n",
       "      <th>skill</th>\n",
       "      <th>category1</th>\n",
       "      <th>question</th>\n",
       "      <th>alias</th>\n",
       "      <th>skill_id</th>\n",
       "      <th>category1_id</th>\n",
       "      <th>question_id</th>\n",
       "      <th>index</th>\n",
       "    </tr>\n",
       "  </thead>\n",
       "  <tbody>\n",
       "    <tr>\n",
       "      <th>0</th>\n",
       "      <td>公司概述</td>\n",
       "      <td>公司介绍</td>\n",
       "      <td>公司的投资方是哪家</td>\n",
       "      <td>公司投资方是谁</td>\n",
       "      <td>1</td>\n",
       "      <td>1</td>\n",
       "      <td>1</td>\n",
       "      <td>1</td>\n",
       "    </tr>\n",
       "    <tr>\n",
       "      <th>1</th>\n",
       "      <td>公司概述</td>\n",
       "      <td>公司介绍</td>\n",
       "      <td>公司的投资方是哪家</td>\n",
       "      <td>谁是公司投资方</td>\n",
       "      <td>1</td>\n",
       "      <td>1</td>\n",
       "      <td>1</td>\n",
       "      <td>2</td>\n",
       "    </tr>\n",
       "    <tr>\n",
       "      <th>2</th>\n",
       "      <td>公司概述</td>\n",
       "      <td>公司介绍</td>\n",
       "      <td>公司的投资方是哪家</td>\n",
       "      <td>谁给公司融资的</td>\n",
       "      <td>1</td>\n",
       "      <td>1</td>\n",
       "      <td>1</td>\n",
       "      <td>3</td>\n",
       "    </tr>\n",
       "    <tr>\n",
       "      <th>3</th>\n",
       "      <td>公司概述</td>\n",
       "      <td>公司介绍</td>\n",
       "      <td>公司的投资方是哪家</td>\n",
       "      <td>投资方是谁</td>\n",
       "      <td>1</td>\n",
       "      <td>1</td>\n",
       "      <td>1</td>\n",
       "      <td>4</td>\n",
       "    </tr>\n",
       "    <tr>\n",
       "      <th>4</th>\n",
       "      <td>公司概述</td>\n",
       "      <td>公司介绍</td>\n",
       "      <td>公司的投资方是哪家</td>\n",
       "      <td>投资方有谁</td>\n",
       "      <td>1</td>\n",
       "      <td>1</td>\n",
       "      <td>1</td>\n",
       "      <td>5</td>\n",
       "    </tr>\n",
       "  </tbody>\n",
       "</table>\n",
       "</div>"
      ],
      "text/plain": [
       "  skill category1   question    alias  skill_id  category1_id  question_id  \\\n",
       "0  公司概述      公司介绍  公司的投资方是哪家  公司投资方是谁         1             1            1   \n",
       "1  公司概述      公司介绍  公司的投资方是哪家  谁是公司投资方         1             1            1   \n",
       "2  公司概述      公司介绍  公司的投资方是哪家  谁给公司融资的         1             1            1   \n",
       "3  公司概述      公司介绍  公司的投资方是哪家    投资方是谁         1             1            1   \n",
       "4  公司概述      公司介绍  公司的投资方是哪家    投资方有谁         1             1            1   \n",
       "\n",
       "   index  \n",
       "0      1  \n",
       "1      2  \n",
       "2      3  \n",
       "3      4  \n",
       "4      5  "
      ]
     },
     "execution_count": 27,
     "metadata": {},
     "output_type": "execute_result"
    }
   ],
   "source": [
    "# skill, category1, question\n",
    "column_maps = ['skill', 'category1', 'question']\n",
    "\n",
    "id_mapping = {}\n",
    "for column in column_maps:\n",
    "    items = dfs_filter[column].dropna().drop_duplicates().tolist()\n",
    "    id_mapping[column] = dict(zip(items, range(1, len(items) + 1)))\n",
    "    dfs_filter.loc[:, column + '_' + 'id'] = dfs_filter.loc[:, column].apply(lambda x: id_mapping[column][x])\n",
    "\n",
    "dfs_filter.loc[:, 'index'] = dfs_filter.index + 1\n",
    "dfs_filter.head()"
   ]
  }
 ],
 "metadata": {
  "interpreter": {
   "hash": "39523588d8b65e276e3b3ce4ad86671cf16799b4b6dbe3d340c9dffb24f4d39d"
  },
  "kernelspec": {
   "display_name": "Python 3.7.3 ('base')",
   "language": "python",
   "name": "python3"
  },
  "language_info": {
   "codemirror_mode": {
    "name": "ipython",
    "version": 3
   },
   "file_extension": ".py",
   "mimetype": "text/x-python",
   "name": "python",
   "nbconvert_exporter": "python",
   "pygments_lexer": "ipython3",
   "version": "3.7.3"
  },
  "orig_nbformat": 4
 },
 "nbformat": 4,
 "nbformat_minor": 2
}
